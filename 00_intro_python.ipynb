{
  "nbformat": 4,
  "nbformat_minor": 0,
  "metadata": {
    "colab": {
      "provenance": [],
      "authorship_tag": "ABX9TyP1uy9xFcRDUrg6/eigFcdB",
      "include_colab_link": true
    },
    "kernelspec": {
      "name": "python3",
      "display_name": "Python 3"
    },
    "language_info": {
      "name": "python"
    }
  },
  "cells": [
    {
      "cell_type": "markdown",
      "metadata": {
        "id": "view-in-github",
        "colab_type": "text"
      },
      "source": [
        "<a href=\"https://colab.research.google.com/github/samrawaseem/Assignment-04/blob/main/00_intro_python.ipynb\" target=\"_parent\"><img src=\"https://colab.research.google.com/assets/colab-badge.svg\" alt=\"Open In Colab\"/></a>"
      ]
    },
    {
      "cell_type": "code",
      "execution_count": 2,
      "metadata": {
        "colab": {
          "base_uri": "https://localhost:8080/"
        },
        "id": "a2hNpnvul9vn",
        "outputId": "839ca5c7-ca2b-4a12-beed-306951c47501"
      },
      "outputs": [
        {
          "output_type": "stream",
          "name": "stdout",
          "text": [
            "This application for add two numbers\n",
            "Enter your first number. 50\n",
            "Enter your second number. 50\n",
            "The total sum of 50 and 50 is 100\n"
          ]
        }
      ],
      "source": [
        "(\"01_add_two_numbers\")\n",
        "def add():\n",
        "   print(\"This application for add two numbers\")\n",
        "   first_number= int(input(\"Enter your first number. \"))\n",
        "   second_number= int(input(\"Enter your second number. \"))\n",
        "   total = int(first_number + second_number)\n",
        "   print(f'The total sum of {first_number} and {second_number} is {total}')\n",
        "\n",
        "if __name__ ==\"__main__\":\n",
        "  add()"
      ]
    },
    {
      "cell_type": "code",
      "source": [],
      "metadata": {
        "id": "OccbavP8zPmE"
      },
      "execution_count": null,
      "outputs": []
    },
    {
      "cell_type": "code",
      "source": [
        "print(\"02_agreement_bot\")\n",
        "\n",
        "def bot():\n",
        "  animal = str(input(\"What animal do you like? \"))\n",
        "  print(f\"I like {animal} too!\")\n",
        "\n",
        "if __name__ == \"__main__\":\n",
        "  bot()"
      ],
      "metadata": {
        "colab": {
          "base_uri": "https://localhost:8080/"
        },
        "id": "El-YNc6Vq6Qt",
        "outputId": "c0defcfe-9cb9-46e6-eef0-89ef0d04fefe"
      },
      "execution_count": 3,
      "outputs": [
        {
          "output_type": "stream",
          "name": "stdout",
          "text": [
            "02_agreement_bot\n",
            "What animal do you like? cat and goat\n",
            "I like cat and goat too!\n"
          ]
        }
      ]
    },
    {
      "cell_type": "code",
      "source": [
        "print(\"03_farhenheit_to_celsius\")\n",
        "\n",
        "def temp():\n",
        "  print(\"This code converts temperature from Fahrenheit to Celsius\")\n",
        "  fahrenheit_degree = float(input(\"Enter temperature in Fahrenheit degree. \"))\n",
        "  celsius_degree = (fahrenheit_degree - 32) * 5.0 / 9.0\n",
        "  print(f'Temperature{fahrenheit_degree} F= {celsius_degree} C')\n",
        "\n",
        "if __name__ == \"__main__\":\n",
        "  temp()"
      ],
      "metadata": {
        "colab": {
          "base_uri": "https://localhost:8080/"
        },
        "id": "tOuq4HC7n1S2",
        "outputId": "4b1450fa-36fb-4cdd-895f-f1b0a1c3324d"
      },
      "execution_count": 4,
      "outputs": [
        {
          "output_type": "stream",
          "name": "stdout",
          "text": [
            "03_farhenheit_to_celsius\n",
            "This code converts temperature from Fahrenheit to Celsius\n",
            "Enter temperature in Fahrenheit degree. 37\n",
            "Temperature37.0 F= 2.7777777777777777 C\n"
          ]
        }
      ]
    },
    {
      "cell_type": "code",
      "source": [
        "print(\"04_how_old_are_they\")\n",
        "\n",
        "def add_ages():\n",
        "  anthon:int = 21\n",
        "  beth:int = anthon + 6\n",
        "  chen:int = beth + 20\n",
        "  drew:int = chen + anthon\n",
        "  ethan:int = chen\n",
        "\n",
        "  print(\"Anthon is \" + str(anthon))\n",
        "  print(\"Beth is \" + str(beth))\n",
        "  print(\"Chen is \" + str(chen))\n",
        "  print(\"Drew is \" + str(drew))\n",
        "  print(\"Ethen is \" + str(ethan))\n",
        "\n",
        "if __name__ == \"__main__\":\n",
        "  add_ages()"
      ],
      "metadata": {
        "colab": {
          "base_uri": "https://localhost:8080/"
        },
        "id": "8SigwNkQvurH",
        "outputId": "a99e84b9-3468-42b0-9aa9-89765b984056"
      },
      "execution_count": 9,
      "outputs": [
        {
          "output_type": "stream",
          "name": "stdout",
          "text": [
            "04_how_old_are_they\n",
            "Anthon is 21\n",
            "Beth is 27\n",
            "Chen is 47\n",
            "Drew is 68\n",
            "Ethen is 47\n"
          ]
        }
      ]
    },
    {
      "cell_type": "code",
      "source": [
        "print(\"05_triangle_perimeter\")\n",
        "\n",
        "def triangle():\n",
        "   print(\"This code is about perimeter of triangle.\")\n",
        "   side1:float =float(input(\"Enter first side no of triangle. \"))\n",
        "   side2:float =float(input(\"Enter second side no of triangle. \"))\n",
        "   side3:float =float(input(\"Enter third side no of triangle. \"))\n",
        "   total:float = float(side1 + side2 + side3)\n",
        "   print(f'The perimeter of triangle is {total}')\n",
        "\n",
        "if __name__ == \"__main__\":\n",
        "    triangle()"
      ],
      "metadata": {
        "colab": {
          "base_uri": "https://localhost:8080/"
        },
        "id": "5P0lTep40ceN",
        "outputId": "b02d5b9a-d09c-44bf-9e97-e88fb8952e40"
      },
      "execution_count": 14,
      "outputs": [
        {
          "output_type": "stream",
          "name": "stdout",
          "text": [
            "05_triangle_perimeter\n",
            "This code is about perimeter of triangle.\n",
            "Enter first side no of triangle. 20\n",
            "Enter second side no of triangle. 20\n",
            "Enter third side no of triangle. 20\n",
            "The perimeter of triangle is 60.0\n"
          ]
        }
      ]
    },
    {
      "cell_type": "code",
      "source": [
        "print(\"06_square_number\")\n",
        "\n",
        "def square():\n",
        "  print(\"This code is about square of given number\")\n",
        "  num1:int = int(input(\"Enter your number and get square value\"))\n",
        "  print(f'The square of {num1} is {num1**2}')\n",
        "\n",
        "if __name__ == \"__main__\":\n",
        "  square()"
      ],
      "metadata": {
        "colab": {
          "base_uri": "https://localhost:8080/"
        },
        "id": "J0lvjEGv4hbg",
        "outputId": "407c06f0-4494-45e9-b4bd-d3e74ec44e88"
      },
      "execution_count": 15,
      "outputs": [
        {
          "output_type": "stream",
          "name": "stdout",
          "text": [
            "06_square_number\n",
            "This code is about square of given number\n",
            "Enter your number and get square value80\n",
            "The square of 80 is 6400\n"
          ]
        }
      ]
    }
  ]
}